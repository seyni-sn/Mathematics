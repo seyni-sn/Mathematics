{
 "cells": [
  {
   "cell_type": "code",
   "execution_count": 4,
   "metadata": {},
   "outputs": [
    {
     "name": "stdout",
     "output_type": "stream",
     "text": [
      "1-> Definitions des matrice\n"
     ]
    }
   ],
   "source": [
    "print ('1-> Definitions des matrice')"
   ]
  },
  {
   "cell_type": "code",
   "execution_count": 1,
   "metadata": {},
   "outputs": [
    {
     "data": {
      "text/html": [
       "<html><script type=\"math/tex; mode=display\">\\newcommand{\\Bold}[1]{\\mathbf{#1}}\\verb|A|\\phantom{\\verb!x!}\\verb|=| \\left(\\begin{array}{rrr}\n",
       "13 & -5 & -2 \\\\\n",
       "-2 & 7 & -8 \\\\\n",
       "-5 & 4 & 7\n",
       "\\end{array}\\right)</script></html>"
      ],
      "text/plain": [
       "'A = ' [13 -5 -2]\n",
       "[-2  7 -8]\n",
       "[-5  4  7]"
      ]
     },
     "metadata": {},
     "output_type": "display_data"
    }
   ],
   "source": [
    "A = matrix([[13, -5, -2], [-2, 7, -8], [-5, 4, 7]]); show(\"A = \", A)"
   ]
  },
  {
   "cell_type": "code",
   "execution_count": 2,
   "metadata": {},
   "outputs": [
    {
     "data": {
      "text/html": [
       "<html><script type=\"math/tex; mode=display\">\\newcommand{\\Bold}[1]{\\mathbf{#1}}\\verb|B|\\phantom{\\verb!x!}\\verb|=| \\left(\\begin{array}{rrr}\n",
       "3 & 1 & -1 \\\\\n",
       "1 & 1 & 1 \\\\\n",
       "2 & 0 & -2\n",
       "\\end{array}\\right)</script></html>"
      ],
      "text/plain": [
       "'B = ' [ 3  1 -1]\n",
       "[ 1  1  1]\n",
       "[ 2  0 -2]"
      ]
     },
     "metadata": {},
     "output_type": "display_data"
    }
   ],
   "source": [
    "B = matrix([[3, 1, -1], [1, 1, 1], [2, 0, -2]]); show(\"B = \", B)"
   ]
  },
  {
   "cell_type": "code",
   "execution_count": 3,
   "metadata": {},
   "outputs": [
    {
     "data": {
      "text/html": [
       "<html><script type=\"math/tex; mode=display\">\\newcommand{\\Bold}[1]{\\mathbf{#1}}\\verb|C|\\phantom{\\verb!x!}\\verb|=| \\left(\\begin{array}{rrr}\n",
       "0 & 2 & -2 \\\\\n",
       "-1 & 3 & -1 \\\\\n",
       "2 & 0 & 2\n",
       "\\end{array}\\right)</script></html>"
      ],
      "text/plain": [
       "'C = ' [ 0  2 -2]\n",
       "[-1  3 -1]\n",
       "[ 2  0  2]"
      ]
     },
     "metadata": {},
     "output_type": "display_data"
    }
   ],
   "source": [
    "C = matrix([[0, 2, -2], [-1, 3, -1], [2, 0, 2]]); show(\"C = \", C)"
   ]
  },
  {
   "cell_type": "code",
   "execution_count": 5,
   "metadata": {},
   "outputs": [
    {
     "name": "stdout",
     "output_type": "stream",
     "text": [
      "2-> Sont-elles inversibles?\n"
     ]
    }
   ],
   "source": [
    "print('2-> Sont-elles inversibles?')"
   ]
  },
  {
   "cell_type": "code",
   "execution_count": 8,
   "metadata": {},
   "outputs": [],
   "source": [
    "def estInversibvle(A):\n",
    "    d = A.determinant()\n",
    "    if (d != 0):\n",
    "        print('La matrice donner est inversible')\n",
    "    else:\n",
    "        print('La matrice donner n\\'est pas inversible')"
   ]
  },
  {
   "cell_type": "code",
   "execution_count": 6,
   "metadata": {},
   "outputs": [
    {
     "name": "stdout",
     "output_type": "stream",
     "text": [
      "2->a) Pour A\n"
     ]
    }
   ],
   "source": [
    "print('2->a) Pour A')"
   ]
  },
  {
   "cell_type": "code",
   "execution_count": 9,
   "metadata": {},
   "outputs": [
    {
     "name": "stdout",
     "output_type": "stream",
     "text": [
      "La matrice donner est inversible\n"
     ]
    }
   ],
   "source": [
    "estInversibvle(A)"
   ]
  },
  {
   "cell_type": "code",
   "execution_count": 10,
   "metadata": {},
   "outputs": [
    {
     "name": "stdout",
     "output_type": "stream",
     "text": [
      "2->b) Pour B\n"
     ]
    }
   ],
   "source": [
    "print('2->b) Pour B')"
   ]
  },
  {
   "cell_type": "code",
   "execution_count": 11,
   "metadata": {},
   "outputs": [
    {
     "name": "stdout",
     "output_type": "stream",
     "text": [
      "La matrice donner n'est pas inversible\n"
     ]
    }
   ],
   "source": [
    "estInversibvle(B)"
   ]
  },
  {
   "cell_type": "code",
   "execution_count": 12,
   "metadata": {},
   "outputs": [
    {
     "name": "stdout",
     "output_type": "stream",
     "text": [
      "2->c) Pour C\n"
     ]
    }
   ],
   "source": [
    "print('2->c) Pour C')"
   ]
  },
  {
   "cell_type": "code",
   "execution_count": 13,
   "metadata": {},
   "outputs": [
    {
     "name": "stdout",
     "output_type": "stream",
     "text": [
      "La matrice donner est inversible\n"
     ]
    }
   ],
   "source": [
    "estInversibvle(C)"
   ]
  },
  {
   "cell_type": "code",
   "execution_count": 14,
   "metadata": {},
   "outputs": [
    {
     "name": "stdout",
     "output_type": "stream",
     "text": [
      "3-> Si oui, Déterminer leur inverse\n"
     ]
    }
   ],
   "source": [
    "print('3-> Si oui, Déterminer leur inverse')"
   ]
  },
  {
   "cell_type": "code",
   "execution_count": 17,
   "metadata": {},
   "outputs": [],
   "source": [
    "def inverseMatrice(A):\n",
    "    d = A.inverse()\n",
    "    print('linverse de la marice est:')\n",
    "    show(d)"
   ]
  },
  {
   "cell_type": "code",
   "execution_count": 15,
   "metadata": {},
   "outputs": [
    {
     "name": "stdout",
     "output_type": "stream",
     "text": [
      "3->a) Pour A\n"
     ]
    }
   ],
   "source": [
    "print('3->a) Pour A')"
   ]
  },
  {
   "cell_type": "code",
   "execution_count": 18,
   "metadata": {},
   "outputs": [
    {
     "name": "stdout",
     "output_type": "stream",
     "text": [
      "linverse de la marice est:\n"
     ]
    },
    {
     "data": {
      "text/html": [
       "<html><script type=\"math/tex; mode=display\">\\newcommand{\\Bold}[1]{\\mathbf{#1}}\\left(\\begin{array}{rrr}\n",
       "\\frac{1}{9} & \\frac{1}{27} & \\frac{2}{27} \\\\\n",
       "\\frac{2}{27} & \\frac{1}{9} & \\frac{4}{27} \\\\\n",
       "\\frac{1}{27} & -\\frac{1}{27} & \\frac{1}{9}\n",
       "\\end{array}\\right)</script></html>"
      ],
      "text/plain": [
       "[  1/9  1/27  2/27]\n",
       "[ 2/27   1/9  4/27]\n",
       "[ 1/27 -1/27   1/9]"
      ]
     },
     "metadata": {},
     "output_type": "display_data"
    }
   ],
   "source": [
    "inverseMatrice(A)"
   ]
  },
  {
   "cell_type": "code",
   "execution_count": 19,
   "metadata": {},
   "outputs": [
    {
     "name": "stdout",
     "output_type": "stream",
     "text": [
      "3->b) Pour C\n"
     ]
    }
   ],
   "source": [
    "print('3->b) Pour C')"
   ]
  },
  {
   "cell_type": "code",
   "execution_count": 20,
   "metadata": {},
   "outputs": [
    {
     "name": "stdout",
     "output_type": "stream",
     "text": [
      "linverse de la marice est:\n"
     ]
    },
    {
     "data": {
      "text/html": [
       "<html><script type=\"math/tex; mode=display\">\\newcommand{\\Bold}[1]{\\mathbf{#1}}\\left(\\begin{array}{rrr}\n",
       "\\frac{1}{2} & -\\frac{1}{3} & \\frac{1}{3} \\\\\n",
       "0 & \\frac{1}{3} & \\frac{1}{6} \\\\\n",
       "-\\frac{1}{2} & \\frac{1}{3} & \\frac{1}{6}\n",
       "\\end{array}\\right)</script></html>"
      ],
      "text/plain": [
       "[ 1/2 -1/3  1/3]\n",
       "[   0  1/3  1/6]\n",
       "[-1/2  1/3  1/6]"
      ]
     },
     "metadata": {},
     "output_type": "display_data"
    }
   ],
   "source": [
    "inverseMatrice(C)"
   ]
  },
  {
   "cell_type": "code",
   "execution_count": 21,
   "metadata": {},
   "outputs": [
    {
     "name": "stdout",
     "output_type": "stream",
     "text": [
      "4-> Calculer A2 , A3\n"
     ]
    }
   ],
   "source": [
    "print('4-> Calculer A^2 , A^3')"
   ]
  },
  {
   "cell_type": "code",
   "execution_count": 25,
   "metadata": {},
   "outputs": [
    {
     "data": {
      "text/html": [
       "<html><script type=\"math/tex; mode=display\">\\newcommand{\\Bold}[1]{\\mathbf{#1}}\\verb|A^2|\\phantom{\\verb!x!}\\verb|=| \\left(\\begin{array}{rrr}\n",
       "189 & -108 & 0 \\\\\n",
       "0 & 27 & -108 \\\\\n",
       "-108 & 81 & 27\n",
       "\\end{array}\\right)</script></html>"
      ],
      "text/plain": [
       "'A^2 = ' [ 189 -108    0]\n",
       "[   0   27 -108]\n",
       "[-108   81   27]"
      ]
     },
     "metadata": {},
     "output_type": "display_data"
    }
   ],
   "source": [
    "show(\"A^2 = \", A^2)"
   ]
  },
  {
   "cell_type": "code",
   "execution_count": 26,
   "metadata": {},
   "outputs": [
    {
     "data": {
      "text/html": [
       "<html><script type=\"math/tex; mode=display\">\\newcommand{\\Bold}[1]{\\mathbf{#1}}\\verb|A^3|\\phantom{\\verb!x!}\\verb|=| \\left(\\begin{array}{rrr}\n",
       "2673 & -1701 & 486 \\\\\n",
       "486 & -243 & -972 \\\\\n",
       "-1701 & 1215 & -243\n",
       "\\end{array}\\right)</script></html>"
      ],
      "text/plain": [
       "'A^3 = ' [ 2673 -1701   486]\n",
       "[  486  -243  -972]\n",
       "[-1701  1215  -243]"
      ]
     },
     "metadata": {},
     "output_type": "display_data"
    }
   ],
   "source": [
    "show(\"A^3 = \", A^3)"
   ]
  },
  {
   "cell_type": "code",
   "execution_count": 27,
   "metadata": {},
   "outputs": [
    {
     "name": "stdout",
     "output_type": "stream",
     "text": [
      "5-> A-t-on AB = BA\n"
     ]
    }
   ],
   "source": [
    "print('5-> A-t-on a AB = BA')"
   ]
  },
  {
   "cell_type": "code",
   "execution_count": 28,
   "metadata": {},
   "outputs": [
    {
     "name": "stdout",
     "output_type": "stream",
     "text": [
      "Non on a pas AB = BA\n"
     ]
    }
   ],
   "source": [
    "if (A*B == B*A):\n",
    "    print('Oui on a AB = BA')\n",
    "else:\n",
    "    print('Non on a pas AB = BA')"
   ]
  },
  {
   "cell_type": "code",
   "execution_count": 30,
   "metadata": {},
   "outputs": [
    {
     "name": "stdout",
     "output_type": "stream",
     "text": [
      "6-> Déterminer le polynôme caractéristique de A\n"
     ]
    }
   ],
   "source": [
    "print('6-> Déterminer le polynôme caractéristique de A')"
   ]
  },
  {
   "cell_type": "code",
   "execution_count": 53,
   "metadata": {},
   "outputs": [
    {
     "data": {
      "text/plain": [
       "x^3 - 5*x^2 + 12*x - 12"
      ]
     },
     "execution_count": 53,
     "metadata": {},
     "output_type": "execute_result"
    }
   ],
   "source": [
    "C.charpoly()"
   ]
  },
  {
   "cell_type": "code",
   "execution_count": 34,
   "metadata": {},
   "outputs": [
    {
     "name": "stdout",
     "output_type": "stream",
     "text": [
      "7-> Factoriser ce dernier\n"
     ]
    }
   ],
   "source": [
    "print('7-> Factoriser ce dernier')"
   ]
  },
  {
   "cell_type": "code",
   "execution_count": 54,
   "metadata": {},
   "outputs": [
    {
     "data": {
      "text/plain": [
       "(x - 2) * (x^2 - 3*x + 6)"
      ]
     },
     "execution_count": 54,
     "metadata": {},
     "output_type": "execute_result"
    }
   ],
   "source": [
    "factor(C.charpoly())"
   ]
  },
  {
   "cell_type": "code",
   "execution_count": 37,
   "metadata": {},
   "outputs": [
    {
     "name": "stdout",
     "output_type": "stream",
     "text": [
      "8-> Déterminer les valeurs propres de C et les vecteurs propres associées.\n"
     ]
    }
   ],
   "source": [
    "print('8-> Déterminer les valeurs propres de C et les vecteurs propres associées.')"
   ]
  },
  {
   "cell_type": "code",
   "execution_count": 44,
   "metadata": {},
   "outputs": [
    {
     "data": {
      "text/plain": [
       "[(2, [\n",
       "  (0, 1, 1)\n",
       "  ], 1),\n",
       " (1.500000000000000? - 1.936491673103709?*I,\n",
       "  [(1, 1/2, -0.2500000000000000? + 0.9682458365518542?*I)],\n",
       "  1),\n",
       " (1.500000000000000? + 1.936491673103709?*I,\n",
       "  [(1, 1/2, -0.2500000000000000? - 0.9682458365518542?*I)],\n",
       "  1)]"
      ]
     },
     "execution_count": 44,
     "metadata": {},
     "output_type": "execute_result"
    }
   ],
   "source": [
    "V = C.eigenvectors_right(); V"
   ]
  },
  {
   "cell_type": "code",
   "execution_count": null,
   "metadata": {},
   "outputs": [],
   "source": [
    "print('9-> La matrice C, est-elle diagonalisable?.')"
   ]
  },
  {
   "cell_type": "code",
   "execution_count": 41,
   "metadata": {},
   "outputs": [
    {
     "name": "stdout",
     "output_type": "stream",
     "text": [
      "Oui la matrice est diagonalisable car les valeurs propres sont des racines simples du polynome caracteristique.\n"
     ]
    }
   ],
   "source": [
    "print('Oui la matrice est diagonalisable car les valeurs propres sont des racines simples du polynome caracteristique.')"
   ]
  },
  {
   "cell_type": "code",
   "execution_count": 42,
   "metadata": {},
   "outputs": [
    {
     "name": "stdout",
     "output_type": "stream",
     "text": [
      "10-> Diagonaliser C si possible.\n"
     ]
    }
   ],
   "source": [
    "print('10-> Diagonaliser C si possible.')"
   ]
  },
  {
   "cell_type": "code",
   "execution_count": 50,
   "metadata": {},
   "outputs": [
    {
     "name": "stdout",
     "output_type": "stream",
     "text": [
      "La base D constituer par les vecteur propre\n"
     ]
    }
   ],
   "source": [
    "print('La base D constituer par les vecteur propre')"
   ]
  },
  {
   "cell_type": "code",
   "execution_count": 48,
   "metadata": {},
   "outputs": [
    {
     "data": {
      "text/plain": [
       "[(0, 1, 1),\n",
       " (1, 1/2, -0.2500000000000000? + 0.9682458365518542?*I),\n",
       " (1, 1/2, -0.2500000000000000? - 0.9682458365518542?*I)]"
      ]
     },
     "execution_count": 48,
     "metadata": {},
     "output_type": "execute_result"
    }
   ],
   "source": [
    " D = [V[i][1][0] for i in range(3)] ; D"
   ]
  },
  {
   "cell_type": "code",
   "execution_count": 51,
   "metadata": {},
   "outputs": [
    {
     "name": "stdout",
     "output_type": "stream",
     "text": [
      "Calcule de la matrice de passage P de la base cannonique a la base D\n"
     ]
    }
   ],
   "source": [
    "print('Calcule de la matrice de passage P de la base cannonique a la base D')"
   ]
  },
  {
   "cell_type": "code",
   "execution_count": 49,
   "metadata": {},
   "outputs": [
    {
     "data": {
      "text/plain": [
       "[                                           0                                            1                                            1]\n",
       "[                                           1                                          1/2                                          1/2]\n",
       "[                                           1 -0.2500000000000000? + 0.9682458365518542?*I -0.2500000000000000? - 0.9682458365518542?*I]"
      ]
     },
     "execution_count": 49,
     "metadata": {},
     "output_type": "execute_result"
    }
   ],
   "source": [
    "P = matrix(D).transpose() ; P"
   ]
  },
  {
   "cell_type": "code",
   "execution_count": 52,
   "metadata": {},
   "outputs": [
    {
     "name": "stdout",
     "output_type": "stream",
     "text": [
      "Calcule de la matrice diagonal Delta\n"
     ]
    }
   ],
   "source": [
    "print('Calcule de la matrice diagonal Delta')"
   ]
  },
  {
   "cell_type": "code",
   "execution_count": 72,
   "metadata": {},
   "outputs": [],
   "source": [
    "#Delta = P^-1 * A * P ; Delta"
   ]
  },
  {
   "cell_type": "code",
   "execution_count": 62,
   "metadata": {},
   "outputs": [
    {
     "data": {
      "text/html": [
       "<html><script type=\"math/tex; mode=display\">\\newcommand{\\Bold}[1]{\\mathbf{#1}}\\verb|Diag|\\phantom{\\verb!x!}\\verb|=| \\left(\\begin{array}{rrr}\n",
       "2 & 0 & 0 \\\\\n",
       "0 & 1.500000000000000? - 1.936491673103709? \\sqrt{-1} & 0 \\\\\n",
       "0 & 0 & 1.500000000000000? + 1.936491673103709? \\sqrt{-1}\n",
       "\\end{array}\\right)</script></html>"
      ],
      "text/plain": [
       "'Diag = ' [                                        2                                         0                                         0]\n",
       "[                                        0 1.500000000000000? - 1.936491673103709?*I                                         0]\n",
       "[                                        0                                         0 1.500000000000000? + 1.936491673103709?*I]"
      ]
     },
     "metadata": {},
     "output_type": "display_data"
    }
   ],
   "source": [
    "Diag = matrix([[vp[0], 0, 0], [0, vp[1], 0], [0, 0, vp[2]]]); show(\"Diag = \", Diag)"
   ]
  },
  {
   "cell_type": "code",
   "execution_count": 71,
   "metadata": {},
   "outputs": [],
   "source": [
    " #block_diagonal_matrix(C,1)"
   ]
  }
 ],
 "metadata": {
  "kernelspec": {
   "display_name": "SageMath 9.1",
   "language": "sage",
   "name": "sagemath"
  },
  "language_info": {
   "codemirror_mode": {
    "name": "ipython",
    "version": 3
   },
   "file_extension": ".py",
   "mimetype": "text/x-python",
   "name": "python",
   "nbconvert_exporter": "python",
   "pygments_lexer": "ipython3",
   "version": "3.7.3"
  }
 },
 "nbformat": 4,
 "nbformat_minor": 2
}
