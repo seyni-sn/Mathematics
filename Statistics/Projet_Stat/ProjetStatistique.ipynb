{
 "cells": [
  {
   "cell_type": "code",
   "execution_count": 112,
   "metadata": {},
   "outputs": [
    {
     "data": {
      "text/html": [
       "<div>\n",
       "<style scoped>\n",
       "    .dataframe tbody tr th:only-of-type {\n",
       "        vertical-align: middle;\n",
       "    }\n",
       "\n",
       "    .dataframe tbody tr th {\n",
       "        vertical-align: top;\n",
       "    }\n",
       "\n",
       "    .dataframe thead th {\n",
       "        text-align: right;\n",
       "    }\n",
       "</style>\n",
       "<table border=\"1\" class=\"dataframe\">\n",
       "  <thead>\n",
       "    <tr style=\"text-align: right;\">\n",
       "      <th></th>\n",
       "      <th>Num_Acc</th>\n",
       "      <th>place</th>\n",
       "      <th>catu</th>\n",
       "      <th>grav</th>\n",
       "      <th>sexe</th>\n",
       "      <th>trajet</th>\n",
       "      <th>secu</th>\n",
       "      <th>locp</th>\n",
       "      <th>actp</th>\n",
       "      <th>etatp</th>\n",
       "      <th>an_nais</th>\n",
       "      <th>num_veh</th>\n",
       "    </tr>\n",
       "  </thead>\n",
       "  <tbody>\n",
       "    <tr>\n",
       "      <th>0</th>\n",
       "      <td>200500000001</td>\n",
       "      <td>1</td>\n",
       "      <td>1</td>\n",
       "      <td>4</td>\n",
       "      <td>1</td>\n",
       "      <td>1</td>\n",
       "      <td>11</td>\n",
       "      <td>0</td>\n",
       "      <td>0</td>\n",
       "      <td>0</td>\n",
       "      <td>1976.0</td>\n",
       "      <td>A01</td>\n",
       "    </tr>\n",
       "    <tr>\n",
       "      <th>1</th>\n",
       "      <td>200500000001</td>\n",
       "      <td>1</td>\n",
       "      <td>1</td>\n",
       "      <td>3</td>\n",
       "      <td>2</td>\n",
       "      <td>3</td>\n",
       "      <td>11</td>\n",
       "      <td>0</td>\n",
       "      <td>0</td>\n",
       "      <td>0</td>\n",
       "      <td>1968.0</td>\n",
       "      <td>B02</td>\n",
       "    </tr>\n",
       "    <tr>\n",
       "      <th>2</th>\n",
       "      <td>200500000001</td>\n",
       "      <td>2</td>\n",
       "      <td>2</td>\n",
       "      <td>1</td>\n",
       "      <td>1</td>\n",
       "      <td>0</td>\n",
       "      <td>11</td>\n",
       "      <td>0</td>\n",
       "      <td>0</td>\n",
       "      <td>0</td>\n",
       "      <td>1964.0</td>\n",
       "      <td>B02</td>\n",
       "    </tr>\n",
       "    <tr>\n",
       "      <th>3</th>\n",
       "      <td>200500000001</td>\n",
       "      <td>4</td>\n",
       "      <td>2</td>\n",
       "      <td>1</td>\n",
       "      <td>1</td>\n",
       "      <td>0</td>\n",
       "      <td>31</td>\n",
       "      <td>0</td>\n",
       "      <td>0</td>\n",
       "      <td>0</td>\n",
       "      <td>2004.0</td>\n",
       "      <td>B02</td>\n",
       "    </tr>\n",
       "    <tr>\n",
       "      <th>4</th>\n",
       "      <td>200500000001</td>\n",
       "      <td>5</td>\n",
       "      <td>2</td>\n",
       "      <td>1</td>\n",
       "      <td>1</td>\n",
       "      <td>0</td>\n",
       "      <td>11</td>\n",
       "      <td>0</td>\n",
       "      <td>0</td>\n",
       "      <td>0</td>\n",
       "      <td>1998.0</td>\n",
       "      <td>B02</td>\n",
       "    </tr>\n",
       "  </tbody>\n",
       "</table>\n",
       "</div>"
      ],
      "text/plain": [
       "        Num_Acc  place  catu  grav  sexe  trajet  secu  locp  actp  etatp  \\\n",
       "0  200500000001      1     1     4     1       1    11     0     0      0   \n",
       "1  200500000001      1     1     3     2       3    11     0     0      0   \n",
       "2  200500000001      2     2     1     1       0    11     0     0      0   \n",
       "3  200500000001      4     2     1     1       0    31     0     0      0   \n",
       "4  200500000001      5     2     1     1       0    11     0     0      0   \n",
       "\n",
       "   an_nais num_veh  \n",
       "0   1976.0     A01  \n",
       "1   1968.0     B02  \n",
       "2   1964.0     B02  \n",
       "3   2004.0     B02  \n",
       "4   1998.0     B02  "
      ]
     },
     "execution_count": 112,
     "metadata": {},
     "output_type": "execute_result"
    }
   ],
   "source": [
    "#Charger la librairie pandas comme pd\n",
    "import pandas as pd \n",
    "import numpy as np\n",
    "#importer notre fichier usagers_2005.csv\n",
    "data = pd.read_csv(\"usagers_2005.csv\") \n",
    "\n",
    "#Afficher les cinq premier ligne de notre tableau\n",
    "data.head()"
   ]
  },
  {
   "cell_type": "code",
   "execution_count": 113,
   "metadata": {},
   "outputs": [
    {
     "name": "stdout",
     "output_type": "stream",
     "text": [
      "Q15 : Y-a-t-il une différence dans la moyenne des âges pour chaque niveau de gravité ou au moins entre certains ? :\n"
     ]
    }
   ],
   "source": [
    "print(\"Q15 : Y-a-t-il une différence dans la moyenne des âges pour chaque niveau de gravité ou au moins entre certains ? :\")"
   ]
  },
  {
   "cell_type": "code",
   "execution_count": 114,
   "metadata": {},
   "outputs": [
    {
     "data": {
      "text/html": [
       "<div>\n",
       "<style scoped>\n",
       "    .dataframe tbody tr th:only-of-type {\n",
       "        vertical-align: middle;\n",
       "    }\n",
       "\n",
       "    .dataframe tbody tr th {\n",
       "        vertical-align: top;\n",
       "    }\n",
       "\n",
       "    .dataframe thead th {\n",
       "        text-align: right;\n",
       "    }\n",
       "</style>\n",
       "<table border=\"1\" class=\"dataframe\">\n",
       "  <thead>\n",
       "    <tr style=\"text-align: right;\">\n",
       "      <th></th>\n",
       "      <th>grav</th>\n",
       "      <th>an_nais</th>\n",
       "    </tr>\n",
       "  </thead>\n",
       "  <tbody>\n",
       "    <tr>\n",
       "      <th>0</th>\n",
       "      <td>4</td>\n",
       "      <td>1976.0</td>\n",
       "    </tr>\n",
       "    <tr>\n",
       "      <th>1</th>\n",
       "      <td>3</td>\n",
       "      <td>1968.0</td>\n",
       "    </tr>\n",
       "    <tr>\n",
       "      <th>2</th>\n",
       "      <td>1</td>\n",
       "      <td>1964.0</td>\n",
       "    </tr>\n",
       "    <tr>\n",
       "      <th>3</th>\n",
       "      <td>1</td>\n",
       "      <td>2004.0</td>\n",
       "    </tr>\n",
       "    <tr>\n",
       "      <th>4</th>\n",
       "      <td>1</td>\n",
       "      <td>1998.0</td>\n",
       "    </tr>\n",
       "    <tr>\n",
       "      <th>...</th>\n",
       "      <td>...</td>\n",
       "      <td>...</td>\n",
       "    </tr>\n",
       "    <tr>\n",
       "      <th>197493</th>\n",
       "      <td>1</td>\n",
       "      <td>1972.0</td>\n",
       "    </tr>\n",
       "    <tr>\n",
       "      <th>197494</th>\n",
       "      <td>1</td>\n",
       "      <td>1965.0</td>\n",
       "    </tr>\n",
       "    <tr>\n",
       "      <th>197495</th>\n",
       "      <td>4</td>\n",
       "      <td>1990.0</td>\n",
       "    </tr>\n",
       "    <tr>\n",
       "      <th>197496</th>\n",
       "      <td>4</td>\n",
       "      <td>1951.0</td>\n",
       "    </tr>\n",
       "    <tr>\n",
       "      <th>197497</th>\n",
       "      <td>4</td>\n",
       "      <td>1946.0</td>\n",
       "    </tr>\n",
       "  </tbody>\n",
       "</table>\n",
       "<p>197498 rows × 2 columns</p>\n",
       "</div>"
      ],
      "text/plain": [
       "        grav  an_nais\n",
       "0          4   1976.0\n",
       "1          3   1968.0\n",
       "2          1   1964.0\n",
       "3          1   2004.0\n",
       "4          1   1998.0\n",
       "...      ...      ...\n",
       "197493     1   1972.0\n",
       "197494     1   1965.0\n",
       "197495     4   1990.0\n",
       "197496     4   1951.0\n",
       "197497     4   1946.0\n",
       "\n",
       "[197498 rows x 2 columns]"
      ]
     },
     "execution_count": 114,
     "metadata": {},
     "output_type": "execute_result"
    }
   ],
   "source": [
    "Tableau = data[['grav', 'an_nais']]\n",
    "Tableau\n"
   ]
  },
  {
   "cell_type": "code",
   "execution_count": 115,
   "metadata": {},
   "outputs": [
    {
     "data": {
      "text/plain": [
       "(197498, 2)"
      ]
     },
     "execution_count": 115,
     "metadata": {},
     "output_type": "execute_result"
    }
   ],
   "source": [
    "Tableau.shape"
   ]
  },
  {
   "cell_type": "code",
   "execution_count": 116,
   "metadata": {},
   "outputs": [
    {
     "data": {
      "text/html": [
       "<div>\n",
       "<style scoped>\n",
       "    .dataframe tbody tr th:only-of-type {\n",
       "        vertical-align: middle;\n",
       "    }\n",
       "\n",
       "    .dataframe tbody tr th {\n",
       "        vertical-align: top;\n",
       "    }\n",
       "\n",
       "    .dataframe thead th {\n",
       "        text-align: right;\n",
       "    }\n",
       "</style>\n",
       "<table border=\"1\" class=\"dataframe\">\n",
       "  <thead>\n",
       "    <tr style=\"text-align: right;\">\n",
       "      <th></th>\n",
       "      <th>grav</th>\n",
       "      <th>an_nais</th>\n",
       "    </tr>\n",
       "  </thead>\n",
       "  <tbody>\n",
       "    <tr>\n",
       "      <th>2</th>\n",
       "      <td>1</td>\n",
       "      <td>1964.0</td>\n",
       "    </tr>\n",
       "    <tr>\n",
       "      <th>3</th>\n",
       "      <td>1</td>\n",
       "      <td>2004.0</td>\n",
       "    </tr>\n",
       "    <tr>\n",
       "      <th>4</th>\n",
       "      <td>1</td>\n",
       "      <td>1998.0</td>\n",
       "    </tr>\n",
       "    <tr>\n",
       "      <th>5</th>\n",
       "      <td>1</td>\n",
       "      <td>1991.0</td>\n",
       "    </tr>\n",
       "    <tr>\n",
       "      <th>6</th>\n",
       "      <td>1</td>\n",
       "      <td>1955.0</td>\n",
       "    </tr>\n",
       "  </tbody>\n",
       "</table>\n",
       "</div>"
      ],
      "text/plain": [
       "   grav  an_nais\n",
       "2     1   1964.0\n",
       "3     1   2004.0\n",
       "4     1   1998.0\n",
       "5     1   1991.0\n",
       "6     1   1955.0"
      ]
     },
     "execution_count": 116,
     "metadata": {},
     "output_type": "execute_result"
    }
   ],
   "source": [
    "persIndeme = Tableau.loc[Tableau['grav'] == 1]\n",
    "persTue = Tableau.loc[Tableau['grav'] == 2]\n",
    "persBlessHosp = Tableau.loc[Tableau['grav'] == 3]\n",
    "persBlessLeg = Tableau.loc[Tableau['grav'] == 4]\n",
    "persIndeme.head()"
   ]
  },
  {
   "cell_type": "code",
   "execution_count": 117,
   "metadata": {},
   "outputs": [],
   "source": [
    "nbreIndeme = persIndeme.shape[0]\n",
    "nbreTue = persTue.shape[0]\n",
    "nbreBlessHosp = persBlessHosp.shape[0]\n",
    "nbreBlessLeg = persBlessLeg.shape[0]"
   ]
  },
  {
   "cell_type": "code",
   "execution_count": 118,
   "metadata": {},
   "outputs": [
    {
     "name": "stdout",
     "output_type": "stream",
     "text": [
      "Nombre Indeme =  80272 | Nombre Tué =  5543 | Nombre blessé Hospitalisé =  40792 | Nombre Blessé léger =  70891\n"
     ]
    }
   ],
   "source": [
    "print(\"Nombre Indeme = \",nbreIndeme, \"| Nombre Tué = \", nbreTue, \"| Nombre blessé Hospitalisé = \", nbreBlessHosp, \"| Nombre Blessé léger = \", nbreBlessLeg )"
   ]
  },
  {
   "cell_type": "code",
   "execution_count": 119,
   "metadata": {},
   "outputs": [],
   "source": [
    "ageIndeme = 2005 - persIndeme['an_nais']\n",
    "ageTue = 2005 - persTue['an_nais']\n",
    "ageBlessHosp = 2005 - persBlessHosp['an_nais']\n",
    "ageBlessLeg = 2005 - persBlessLeg['an_nais']"
   ]
  },
  {
   "cell_type": "code",
   "execution_count": 120,
   "metadata": {},
   "outputs": [],
   "source": [
    "moyIndeme = ageIndeme.mean()\n",
    "moyTue = ageTue.mean()\n",
    "moyBlessHosp = ageBlessHosp.mean()\n",
    "moyBlessLeg = ageBlessLeg.mean()"
   ]
  },
  {
   "cell_type": "code",
   "execution_count": 121,
   "metadata": {},
   "outputs": [
    {
     "name": "stdout",
     "output_type": "stream",
     "text": [
      "Moyen Indeme =  38.31 | Moyen Tué =  41.3 | Moyen Blessé Hospitalisé =  35.64 | Moyen Blessé Léger =  33.85\n"
     ]
    }
   ],
   "source": [
    "print(\"Moyen Indeme = \", round(moyIndeme,2), \"| Moyen Tué = \", round(moyTue,2), \"| Moyen Blessé Hospitalisé = \", round(moyBlessHosp,2), \"| Moyen Blessé Léger = \", round(moyBlessLeg,2) )"
   ]
  },
  {
   "cell_type": "code",
   "execution_count": 122,
   "metadata": {},
   "outputs": [],
   "source": [
    "age =  2005 - Tableau['an_nais']"
   ]
  },
  {
   "cell_type": "code",
   "execution_count": 123,
   "metadata": {},
   "outputs": [
    {
     "name": "stdout",
     "output_type": "stream",
     "text": [
      "Moyen age =  36.24\n"
     ]
    }
   ],
   "source": [
    "print(\"Moyen age = \", round(age.mean(),2))"
   ]
  },
  {
   "cell_type": "code",
   "execution_count": 124,
   "metadata": {},
   "outputs": [],
   "source": [
    "varIndeme = ageIndeme.std()\n",
    "varTue = ageTue.std()\n",
    "varBlessHosp = ageBlessHosp.std()\n",
    "varBlessLeg = ageBlessLeg.std()"
   ]
  },
  {
   "cell_type": "code",
   "execution_count": 125,
   "metadata": {},
   "outputs": [
    {
     "name": "stdout",
     "output_type": "stream",
     "text": [
      "Variance Indeme =  16.43 | Variance Tué =  21.53 | Variance Blessé Hospitalisé =  19.53 | Variance Blessé Léger =  17.49\n"
     ]
    }
   ],
   "source": [
    "print(\"Variance Indeme = \", round(varIndeme,2), \"| Variance Tué = \", round(varTue,2), \"| Variance Blessé Hospitalisé = \", round(varBlessHosp,2), \"| Variance Blessé Léger = \", round(varBlessLeg,2) )"
   ]
  },
  {
   "cell_type": "code",
   "execution_count": 126,
   "metadata": {},
   "outputs": [],
   "source": [
    "def calc(m1,m2,v1,v2,n1,n2):\n",
    "    return (m1 - m2)/np.sqrt(v1/n1 + v2/n2)"
   ]
  },
  {
   "cell_type": "code",
   "execution_count": 127,
   "metadata": {},
   "outputs": [
    {
     "data": {
      "text/plain": [
       "66.45"
      ]
     },
     "execution_count": 127,
     "metadata": {},
     "output_type": "execute_result"
    }
   ],
   "source": [
    "t1Indeme = calc(moyIndeme, moyTue, varIndeme, varTue,nbreIndeme,nbreTue)\n",
    "t2Indeme = calc(moyIndeme, moyBlessHosp, varIndeme, varBlessHosp,nbreIndeme,nbreBlessHosp)\n",
    "t3Indeme = calc(moyIndeme, moyBlessLeg, varIndeme, varBlessLeg,nbreIndeme,nbreBlessLeg)\n",
    "#round(t3,2)\n",
    "t1Tue = calc(moyTue, moyBlessHosp, varTue, varBlessHosp,nbreTue,nbreBlessHosp)\n",
    "t2Tue = calc(moyTue, moyBlessLeg, varTue, varBlessLeg,nbreTue,nbreBlessLeg)\n",
    "round(t2Tue,2)\n",
    "t1BlessHosp = calc(moyBlessHosp, moyBlessLeg, varBlessHosp, varBlessLeg,nbreBlessHosp,nbreBlessLeg)\n",
    "round(t1BlessHosp,2) "
   ]
  },
  {
   "cell_type": "code",
   "execution_count": 128,
   "metadata": {},
   "outputs": [
    {
     "name": "stdout",
     "output_type": "stream",
     "text": [
      "Q16 : Y-a-t-il une différence dans l’état de gravité des blessures selon la catégorie des usagers ? La colonne “catu” précise cette catégorie d’usagers :\n"
     ]
    }
   ],
   "source": [
    "print(\"Q16 : Y-a-t-il une différence dans l’état de gravité des blessures selon la catégorie des usagers ? La colonne “catu” précise cette catégorie d’usagers :\")"
   ]
  },
  {
   "cell_type": "code",
   "execution_count": 129,
   "metadata": {},
   "outputs": [
    {
     "data": {
      "text/html": [
       "<div>\n",
       "<style scoped>\n",
       "    .dataframe tbody tr th:only-of-type {\n",
       "        vertical-align: middle;\n",
       "    }\n",
       "\n",
       "    .dataframe tbody tr th {\n",
       "        vertical-align: top;\n",
       "    }\n",
       "\n",
       "    .dataframe thead th {\n",
       "        text-align: right;\n",
       "    }\n",
       "</style>\n",
       "<table border=\"1\" class=\"dataframe\">\n",
       "  <thead>\n",
       "    <tr style=\"text-align: right;\">\n",
       "      <th></th>\n",
       "      <th>grav</th>\n",
       "      <th>catu</th>\n",
       "    </tr>\n",
       "  </thead>\n",
       "  <tbody>\n",
       "    <tr>\n",
       "      <th>0</th>\n",
       "      <td>4</td>\n",
       "      <td>1</td>\n",
       "    </tr>\n",
       "    <tr>\n",
       "      <th>1</th>\n",
       "      <td>3</td>\n",
       "      <td>1</td>\n",
       "    </tr>\n",
       "    <tr>\n",
       "      <th>2</th>\n",
       "      <td>1</td>\n",
       "      <td>2</td>\n",
       "    </tr>\n",
       "    <tr>\n",
       "      <th>3</th>\n",
       "      <td>1</td>\n",
       "      <td>2</td>\n",
       "    </tr>\n",
       "    <tr>\n",
       "      <th>4</th>\n",
       "      <td>1</td>\n",
       "      <td>2</td>\n",
       "    </tr>\n",
       "  </tbody>\n",
       "</table>\n",
       "</div>"
      ],
      "text/plain": [
       "   grav  catu\n",
       "0     4     1\n",
       "1     3     1\n",
       "2     1     2\n",
       "3     1     2\n",
       "4     1     2"
      ]
     },
     "execution_count": 129,
     "metadata": {},
     "output_type": "execute_result"
    }
   ],
   "source": [
    "Tableau = data[['grav', 'catu']]\n",
    "Tableau.head()"
   ]
  },
  {
   "cell_type": "code",
   "execution_count": 193,
   "metadata": {},
   "outputs": [
    {
     "data": {
      "text/plain": [
       "[[0, 0, 0, 0, 146226],\n",
       " [0, 0, 0, 0, 36252],\n",
       " [0, 0, 0, 0, 14722],\n",
       " [80272, 5543, 40792, 70891, 197498]]"
      ]
     },
     "execution_count": 193,
     "metadata": {},
     "output_type": "execute_result"
    }
   ],
   "source": [
    "persIndeme = Tableau.loc[Tableau['grav'] == 1]\n",
    "persTue = Tableau.loc[Tableau['grav'] == 2]\n",
    "persBlessHosp = Tableau.loc[Tableau['grav'] == 3]\n",
    "persBlessLeg = Tableau.loc[Tableau['grav'] == 4]\n",
    "persIndeme.head()\n",
    "\n",
    "persCond = Tableau.loc[Tableau['catu'] == 1]\n",
    "persPass = Tableau.loc[Tableau['catu'] == 2]\n",
    "persPiet = Tableau.loc[Tableau['catu'] == 3]\n",
    "\n",
    "#Nombre total de persone par categorie\n",
    "ctot = []\n",
    "npersCond = persCond.shape[0]\n",
    "ctot.append(npersCond)\n",
    "npersPass = persPass.shape[0]\n",
    "ctot.append(npersPass)\n",
    "npersPiet = persPiet.shape[0]\n",
    "ctot.append(npersPiet)\n",
    "\n",
    "\n",
    "#Nombre total de persone par gravite\n",
    "#ltot = []\n",
    "#npersIndeme = persIndeme.shape[0]\n",
    "#ltot.append(npersIndeme)\n",
    "#npersTue = persTue.shape[0]\n",
    "#ltot.append(npersTue)\n",
    "#npersBlessHosp = persBlessHosp.shape[0]\n",
    "#ltot.append(npersBlessHosp)\n",
    "#npersBlessLeg = persBlessLeg.shape[0]\n",
    "#ltot.append(npersBlessLeg)\n",
    "\n",
    "#Le total des persone\n",
    "totalPers = Tableau.shape[0]\n",
    "#ltot.append(totalPers)\n",
    "\n",
    "\n",
    "\n",
    "tab = []\n",
    "for i in range(0,4):\n",
    "    tab.append([0,0,0,0,0])\n",
    "    \n",
    "tab[3] = ltot\n",
    "for i in range(3):\n",
    "    tab[i][4] = ctot[i]\n",
    "tab\n",
    "#ltot"
   ]
  },
  {
   "cell_type": "code",
   "execution_count": 207,
   "metadata": {},
   "outputs": [
    {
     "data": {
      "text/plain": [
       "[[69196, 3829, 26904, 46297, 146226],\n",
       " [10807, 1031, 8016, 16398, 36252],\n",
       " [263, 676, 5753, 8030, 14722],\n",
       " [80266, 5536, 40673, 70725, 197200]]"
      ]
     },
     "execution_count": 207,
     "metadata": {},
     "output_type": "execute_result"
    }
   ],
   "source": [
    "condIndeme = persIndeme.loc[persIndeme['catu'] == 1]\n",
    "passIndeme = persIndeme.loc[persIndeme['catu'] == 2]\n",
    "pietIndeme = persIndeme.loc[persIndeme['catu'] == 3]\n",
    "\n",
    "#Nombre total de persone par gravite\n",
    "ltot = []\n",
    "\n",
    "#Nombre total de persone par gravite par categorie\n",
    "ncondIndeme = condIndeme.shape[0]\n",
    "tab[0][0] =  ncondIndeme\n",
    "npassIndeme = passIndeme.shape[0]\n",
    "tab[1][0] =  npassIndeme\n",
    "npietIndeme = pietIndeme.shape[0]\n",
    "tab[2][0] =  npietIndeme\n",
    "\n",
    "tot = 0\n",
    "for i in range(3):\n",
    "    tot += tab[i][0]\n",
    "\n",
    "ltot.append(tot)\n",
    "\n",
    "#pietIndeme\n",
    "\n",
    "condTue = persTue.loc[persTue['catu'] == 1]\n",
    "passTue = persTue.loc[persTue['catu'] == 2]\n",
    "pietTue = persTue.loc[persTue['catu'] == 3]\n",
    "\n",
    "ncondTue = condTue.shape[0]\n",
    "tab[0][1] =  ncondTue\n",
    "npassTue = passTue.shape[0]\n",
    "tab[1][1] =  npassTue\n",
    "npietTue = pietTue.shape[0]\n",
    "tab[2][1] =  npietTue\n",
    "\n",
    "tot = 0\n",
    "for i in range(3):\n",
    "    tot += tab[i][1]\n",
    "\n",
    "ltot.append(tot)\n",
    "#pietTue.head()\n",
    "\n",
    "condBlessHosp = persBlessHosp.loc[persBlessHosp['catu'] == 1]\n",
    "passBlessHosp = persBlessHosp.loc[persBlessHosp['catu'] == 2]\n",
    "pietBlessHosp = persBlessHosp.loc[persBlessHosp['catu'] == 3]\n",
    "\n",
    "ncondBlessHosp = condBlessHosp.shape[0]\n",
    "tab[0][2] =  ncondBlessHosp\n",
    "npassBlessHosp = passBlessHosp.shape[0]\n",
    "tab[1][2] =  npassBlessHosp\n",
    "npietBlessHosp = pietBlessHosp.shape[0]\n",
    "tab[2][2] =  npietBlessHosp\n",
    "\n",
    "tot = 0\n",
    "for i in range(3):\n",
    "    tot += tab[i][2]\n",
    "\n",
    "ltot.append(tot)\n",
    "\n",
    "condBlessLeg = persBlessLeg.loc[persBlessLeg['catu'] == 1]\n",
    "passBlessLeg = persBlessLeg.loc[persBlessLeg['catu'] == 2]\n",
    "pietBlessLeg = persBlessLeg.loc[persBlessLeg['catu'] == 3]\n",
    "\n",
    "ncondBlessLeg = condBlessLeg.shape[0]\n",
    "tab[0][3] =  ncondBlessLeg\n",
    "npassBlessLeg = passBlessLeg.shape[0]\n",
    "tab[1][3] =  npassBlessLeg\n",
    "npietBlessLeg = pietBlessLeg.shape[0]\n",
    "tab[2][3] =  npietBlessLeg\n",
    "\n",
    "tot = 0\n",
    "for i in range(3):\n",
    "    tot += tab[i][3]\n",
    "        \n",
    "ltot.append(tot)\n",
    "\n",
    "#Calcule total des total\n",
    "tot = 0\n",
    "for i in range(4):\n",
    "    tot += tab[3][i]\n",
    "        \n",
    "ltot.append(tot)\n",
    "\n",
    "\n",
    "tab[3] = ltot\n",
    "#npietBlessLeg\n",
    "#pietBlessLeg.head()\n",
    "tab"
   ]
  },
  {
   "cell_type": "code",
   "execution_count": 209,
   "metadata": {},
   "outputs": [],
   "source": [
    "def khi2(tab):\n",
    "    x2 = 0\n",
    "    for i in range(3):\n",
    "        for j in range(4):\n",
    "            eij = ((tab[i][4])*(tab[3][j]))/tab[3][4]\n",
    "            x2 = x2 + (tab[i][j] - eij)**2/eij\n",
    "    return x2\n",
    "            \n",
    "            "
   ]
  },
  {
   "cell_type": "code",
   "execution_count": 210,
   "metadata": {},
   "outputs": [
    {
     "data": {
      "text/plain": [
       "14154.32265044675"
      ]
     },
     "execution_count": 210,
     "metadata": {},
     "output_type": "execute_result"
    }
   ],
   "source": [
    "x2 = khi2(tab) \n",
    "x2"
   ]
  },
  {
   "cell_type": "code",
   "execution_count": null,
   "metadata": {},
   "outputs": [],
   "source": []
  }
 ],
 "metadata": {
  "kernelspec": {
   "display_name": "Python 3",
   "language": "python",
   "name": "python3"
  },
  "language_info": {
   "codemirror_mode": {
    "name": "ipython",
    "version": 3
   },
   "file_extension": ".py",
   "mimetype": "text/x-python",
   "name": "python",
   "nbconvert_exporter": "python",
   "pygments_lexer": "ipython3",
   "version": "3.8.10"
  }
 },
 "nbformat": 4,
 "nbformat_minor": 4
}
